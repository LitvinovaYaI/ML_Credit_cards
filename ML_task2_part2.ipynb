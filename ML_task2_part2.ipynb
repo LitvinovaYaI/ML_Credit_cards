{
  "nbformat": 4,
  "nbformat_minor": 0,
  "metadata": {
    "colab": {
      "provenance": [],
      "authorship_tag": "ABX9TyMkRLFjrfw/aW2MpNnp8wNh",
      "include_colab_link": true
    },
    "kernelspec": {
      "name": "python3",
      "display_name": "Python 3"
    },
    "language_info": {
      "name": "python"
    }
  },
  "cells": [
    {
      "cell_type": "markdown",
      "metadata": {
        "id": "view-in-github",
        "colab_type": "text"
      },
      "source": [
        "<a href=\"https://colab.research.google.com/github/LitvinovaYaI/ML_Credit_cards/blob/main/ML_task2_part2.ipynb\" target=\"_parent\"><img src=\"https://colab.research.google.com/assets/colab-badge.svg\" alt=\"Open In Colab\"/></a>"
      ]
    },
    {
      "cell_type": "code",
      "execution_count": 15,
      "metadata": {
        "id": "eNQphStkBeze"
      },
      "outputs": [],
      "source": [
        "import pandas as pd\n",
        "import numpy as np\n",
        "import matplotlib.pyplot as plt\n",
        "import seaborn as sns\n",
        "\n",
        "from sklearn.preprocessing import StandardScaler\n",
        "from sklearn.model_selection import train_test_split\n",
        "from sklearn.linear_model import LogisticRegression\n",
        "from sklearn.neighbors import KNeighborsClassifier\n",
        "from sklearn.svm import SVC\n",
        "from sklearn.svm import LinearSVC\n",
        "from sklearn.metrics import classification_report\n",
        "from sklearn.metrics import roc_curve\n",
        "from sklearn.metrics import roc_auc_score\n",
        "from sklearn.ensemble import RandomForestClassifier\n",
        "from keras.models import Sequential\n",
        "from keras.layers import InputLayer, Dense, BatchNormalization\n",
        "from keras.callbacks import ModelCheckpoint"
      ]
    },
    {
      "cell_type": "code",
      "source": [
        "data = pd.read_csv(\"/content/creditcard.csv\")\n",
        "data.head()\n",
        "data.info()\n",
        "data = data.drop_duplicates(keep='first')"
      ],
      "metadata": {
        "colab": {
          "base_uri": "https://localhost:8080/"
        },
        "id": "DlTk0W0kBtvx",
        "outputId": "3b270538-f162-489b-80b3-58805c9a8aac"
      },
      "execution_count": 16,
      "outputs": [
        {
          "output_type": "stream",
          "name": "stdout",
          "text": [
            "<class 'pandas.core.frame.DataFrame'>\n",
            "RangeIndex: 284807 entries, 0 to 284806\n",
            "Data columns (total 31 columns):\n",
            " #   Column  Non-Null Count   Dtype  \n",
            "---  ------  --------------   -----  \n",
            " 0   Time    284807 non-null  float64\n",
            " 1   V1      284807 non-null  float64\n",
            " 2   V2      284807 non-null  float64\n",
            " 3   V3      284807 non-null  float64\n",
            " 4   V4      284807 non-null  float64\n",
            " 5   V5      284807 non-null  float64\n",
            " 6   V6      284807 non-null  float64\n",
            " 7   V7      284807 non-null  float64\n",
            " 8   V8      284807 non-null  float64\n",
            " 9   V9      284807 non-null  float64\n",
            " 10  V10     284807 non-null  float64\n",
            " 11  V11     284807 non-null  float64\n",
            " 12  V12     284807 non-null  float64\n",
            " 13  V13     284807 non-null  float64\n",
            " 14  V14     284807 non-null  float64\n",
            " 15  V15     284807 non-null  float64\n",
            " 16  V16     284807 non-null  float64\n",
            " 17  V17     284807 non-null  float64\n",
            " 18  V18     284807 non-null  float64\n",
            " 19  V19     284807 non-null  float64\n",
            " 20  V20     284807 non-null  float64\n",
            " 21  V21     284807 non-null  float64\n",
            " 22  V22     284807 non-null  float64\n",
            " 23  V23     284807 non-null  float64\n",
            " 24  V24     284807 non-null  float64\n",
            " 25  V25     284807 non-null  float64\n",
            " 26  V26     284807 non-null  float64\n",
            " 27  V27     284807 non-null  float64\n",
            " 28  V28     284807 non-null  float64\n",
            " 29  Amount  284807 non-null  float64\n",
            " 30  Class   284807 non-null  int64  \n",
            "dtypes: float64(30), int64(1)\n",
            "memory usage: 67.4 MB\n"
          ]
        }
      ]
    },
    {
      "cell_type": "code",
      "source": [
        "impostor = data[data['Class']==1]\n",
        "legal = data[data['Class']==0]\n",
        "legal_sampled = data[data['Class']==0].sample(n = impostor.shape[0], random_state=21)\n",
        "print(f' Impostor Shape{impostor.shape}\\n Legal shape{legal_sampled.shape}')\n",
        "impostor_sampled = impostor\n",
        "final_data = pd.concat([impostor_sampled, legal_sampled], ignore_index=True)\n",
        "final_data.shape"
      ],
      "metadata": {
        "colab": {
          "base_uri": "https://localhost:8080/"
        },
        "id": "oJaRKN8cBtsJ",
        "outputId": "9eded82a-12fe-47f3-fad7-a743c8541c73"
      },
      "execution_count": 17,
      "outputs": [
        {
          "output_type": "stream",
          "name": "stdout",
          "text": [
            " Impostor Shape(473, 31)\n",
            " Legal shape(473, 31)\n"
          ]
        },
        {
          "output_type": "execute_result",
          "data": {
            "text/plain": [
              "(946, 31)"
            ]
          },
          "metadata": {},
          "execution_count": 17
        }
      ]
    },
    {
      "cell_type": "code",
      "source": [
        "x_dropped=final_data.drop(data.columns[[0,1,2,3,4,5,6,7,8,9,10,11,13,15,16,20,21,22,23,24,25,26,27,28,29,30]], axis=1)\n",
        "print(x_dropped)\n",
        "scaler=StandardScaler()\n",
        "x_dropped = scaler.fit_transform(x_dropped)\n",
        "y=final_data['Class']\n",
        "x_dropped, x_dropped_test, y_dropped, y_dropped_test = train_test_split(x_dropped,y, test_size=0.20, random_state=21)\n",
        "print(f'x_train{x_dropped.shape}\\n, x_test{x_dropped_test.shape}\\n, y_train{y_dropped.shape}\\n, y_test{y_dropped_test.shape}')"
      ],
      "metadata": {
        "colab": {
          "base_uri": "https://localhost:8080/"
        },
        "id": "8U-j0_ZOBtoZ",
        "outputId": "a3f6983d-8129-45b2-c8f8-72fe53371025"
      },
      "execution_count": 18,
      "outputs": [
        {
          "output_type": "stream",
          "name": "stdout",
          "text": [
            "           V12       V14        V17       V18       V19\n",
            "0    -2.899907 -4.289254  -2.830056 -0.016822  0.416956\n",
            "1    -0.503141 -1.692029   0.599717  1.725321  0.283345\n",
            "2    -6.560124 -1.470102  -4.781831 -2.615665 -1.334441\n",
            "3   -10.912819 -6.771097 -12.598419 -5.131549  0.308334\n",
            "4    -4.609628 -6.079337   6.739384  3.042493 -2.721853\n",
            "..         ...       ...        ...       ...       ...\n",
            "941   0.137928  0.592303  -1.100491  0.736335 -0.327121\n",
            "942   1.604825  0.292753  -0.498097 -0.317072 -0.534416\n",
            "943   0.314660 -0.035399   0.236162  0.230408 -1.244823\n",
            "944   0.714843 -1.111186   0.332380  0.026919  0.253231\n",
            "945   0.198548  0.800798  -0.145792  0.352731  1.148725\n",
            "\n",
            "[946 rows x 5 columns]\n",
            "x_train(756, 5)\n",
            ", x_test(190, 5)\n",
            ", y_train(756,)\n",
            ", y_test(190,)\n"
          ]
        }
      ]
    },
    {
      "cell_type": "code",
      "source": [
        "# Logistic Regression model\n",
        "def logReg(train_x, train_y, x_test, y_test):\n",
        "    logistic_model = LogisticRegression()\n",
        "    logistic_model.fit(train_x, train_y)\n",
        "    y_pred_train = logistic_model.predict(train_x)\n",
        "    y_pred_test = logistic_model.predict(x_test)\n",
        "    res_train = classification_report(train_y, y_pred_train, target_names=[\"Imposter\",\"Legal\"])\n",
        "    res_test = classification_report(y_test, y_pred_test, target_names=[\"Imposter\",\"Legal\"])\n",
        "    print(res_train)\n",
        "    print(\"*\"*100)\n",
        "    print(res_test)"
      ],
      "metadata": {
        "id": "4bCAqCf8Bthh"
      },
      "execution_count": 19,
      "outputs": []
    },
    {
      "cell_type": "code",
      "source": [
        "#KNeighbors classification model\n",
        "def KNeighbors(x_train, y_train, x_test, y_test):\n",
        "  Kneib = KNeighborsClassifier(n_neighbors=3)\n",
        "  Kneib.fit(x_train, y_train)\n",
        "  y_pred_train = Kneib.predict(x_train)\n",
        "  y_pred_test = Kneib.predict(x_test)\n",
        "  res_train = classification_report(y_train, y_pred_train, target_names=[\"Imposter\",\"Legal\"])\n",
        "  res_test = classification_report(y_test, y_pred_test, target_names=[\"Imposter\",\"Legal\"])\n",
        "  print(res_train)\n",
        "  print(\"*\"*100)\n",
        "  print(res_test)"
      ],
      "metadata": {
        "id": "Fxc9HHTyBtTz"
      },
      "execution_count": 20,
      "outputs": []
    },
    {
      "cell_type": "code",
      "source": [
        "LG_dropped = logReg(x_dropped, y_dropped, x_dropped_test, y_dropped_test)"
      ],
      "metadata": {
        "colab": {
          "base_uri": "https://localhost:8080/"
        },
        "id": "6RLTEQSJCY_n",
        "outputId": "f7120089-9a50-4a8e-990b-8931861b205d"
      },
      "execution_count": 21,
      "outputs": [
        {
          "output_type": "stream",
          "name": "stdout",
          "text": [
            "              precision    recall  f1-score   support\n",
            "\n",
            "    Imposter       0.89      0.98      0.93       380\n",
            "       Legal       0.97      0.88      0.92       376\n",
            "\n",
            "    accuracy                           0.93       756\n",
            "   macro avg       0.93      0.93      0.93       756\n",
            "weighted avg       0.93      0.93      0.93       756\n",
            "\n",
            "****************************************************************************************************\n",
            "              precision    recall  f1-score   support\n",
            "\n",
            "    Imposter       0.83      0.99      0.90        93\n",
            "       Legal       0.99      0.80      0.89        97\n",
            "\n",
            "    accuracy                           0.89       190\n",
            "   macro avg       0.91      0.90      0.89       190\n",
            "weighted avg       0.91      0.89      0.89       190\n",
            "\n"
          ]
        }
      ]
    },
    {
      "cell_type": "code",
      "source": [
        "KN_dropped = KNeighbors(x_dropped, y_dropped, x_dropped_test, y_dropped_test)"
      ],
      "metadata": {
        "colab": {
          "base_uri": "https://localhost:8080/"
        },
        "id": "M8HY_6xzCbpl",
        "outputId": "922be1d1-1294-4233-b7fd-5de82de37801"
      },
      "execution_count": 22,
      "outputs": [
        {
          "output_type": "stream",
          "name": "stdout",
          "text": [
            "              precision    recall  f1-score   support\n",
            "\n",
            "    Imposter       0.91      0.98      0.95       380\n",
            "       Legal       0.98      0.90      0.94       376\n",
            "\n",
            "    accuracy                           0.94       756\n",
            "   macro avg       0.95      0.94      0.94       756\n",
            "weighted avg       0.95      0.94      0.94       756\n",
            "\n",
            "****************************************************************************************************\n",
            "              precision    recall  f1-score   support\n",
            "\n",
            "    Imposter       0.85      0.97      0.90        93\n",
            "       Legal       0.96      0.84      0.90        97\n",
            "\n",
            "    accuracy                           0.90       190\n",
            "   macro avg       0.91      0.90      0.90       190\n",
            "weighted avg       0.91      0.90      0.90       190\n",
            "\n"
          ]
        }
      ]
    },
    {
      "cell_type": "markdown",
      "source": [
        "Итак, результаты для полного датасета: метод линейной регрессии 94%, метод ближайших соседей 97%, для обрезанного датасета: метод линейной регрессии 91%, метод ближайших соседей 91%. Сохранение только наиболее коррелируемых параметров не улучшило результат."
      ],
      "metadata": {
        "id": "zbfVBPbhIPtl"
      }
    }
  ]
}