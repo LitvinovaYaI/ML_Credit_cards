{
  "nbformat": 4,
  "nbformat_minor": 0,
  "metadata": {
    "colab": {
      "provenance": [],
      "authorship_tag": "ABX9TyMiuP8n6ZW4/wAfjvqpotlq",
      "include_colab_link": true
    },
    "kernelspec": {
      "name": "python3",
      "display_name": "Python 3"
    },
    "language_info": {
      "name": "python"
    }
  },
  "cells": [
    {
      "cell_type": "markdown",
      "metadata": {
        "id": "view-in-github",
        "colab_type": "text"
      },
      "source": [
        "<a href=\"https://colab.research.google.com/github/LitvinovaYaI/ML_Credit_cards/blob/main/ML_task2_part2.ipynb\" target=\"_parent\"><img src=\"https://colab.research.google.com/assets/colab-badge.svg\" alt=\"Open In Colab\"/></a>"
      ]
    },
    {
      "cell_type": "code",
      "execution_count": 1,
      "metadata": {
        "id": "eNQphStkBeze"
      },
      "outputs": [],
      "source": [
        "import pandas as pd\n",
        "import numpy as np\n",
        "import matplotlib.pyplot as plt\n",
        "import seaborn as sns\n",
        "\n",
        "from sklearn.preprocessing import StandardScaler\n",
        "from sklearn.model_selection import train_test_split\n",
        "from sklearn.linear_model import LogisticRegression\n",
        "from sklearn.neighbors import KNeighborsClassifier\n",
        "from sklearn.svm import SVC\n",
        "from sklearn.svm import LinearSVC\n",
        "from sklearn.metrics import classification_report\n",
        "from sklearn.metrics import roc_curve\n",
        "from sklearn.metrics import roc_auc_score\n",
        "from sklearn.ensemble import RandomForestClassifier\n",
        "from keras.models import Sequential\n",
        "from keras.layers import InputLayer, Dense, BatchNormalization\n",
        "from keras.callbacks import ModelCheckpoint"
      ]
    },
    {
      "cell_type": "code",
      "source": [
        "data = pd.read_csv(\"/content/creditcard.csv\")\n",
        "data.head()\n",
        "data.info()\n",
        "data = data.drop_duplicates(keep='first')"
      ],
      "metadata": {
        "colab": {
          "base_uri": "https://localhost:8080/"
        },
        "id": "DlTk0W0kBtvx",
        "outputId": "5d9a41de-19bf-4699-c4a8-cd2b06595dcc"
      },
      "execution_count": 4,
      "outputs": [
        {
          "output_type": "stream",
          "name": "stdout",
          "text": [
            "<class 'pandas.core.frame.DataFrame'>\n",
            "RangeIndex: 284807 entries, 0 to 284806\n",
            "Data columns (total 31 columns):\n",
            " #   Column  Non-Null Count   Dtype  \n",
            "---  ------  --------------   -----  \n",
            " 0   Time    284807 non-null  float64\n",
            " 1   V1      284807 non-null  float64\n",
            " 2   V2      284807 non-null  float64\n",
            " 3   V3      284807 non-null  float64\n",
            " 4   V4      284807 non-null  float64\n",
            " 5   V5      284807 non-null  float64\n",
            " 6   V6      284807 non-null  float64\n",
            " 7   V7      284807 non-null  float64\n",
            " 8   V8      284807 non-null  float64\n",
            " 9   V9      284807 non-null  float64\n",
            " 10  V10     284807 non-null  float64\n",
            " 11  V11     284807 non-null  float64\n",
            " 12  V12     284807 non-null  float64\n",
            " 13  V13     284807 non-null  float64\n",
            " 14  V14     284807 non-null  float64\n",
            " 15  V15     284807 non-null  float64\n",
            " 16  V16     284807 non-null  float64\n",
            " 17  V17     284807 non-null  float64\n",
            " 18  V18     284807 non-null  float64\n",
            " 19  V19     284807 non-null  float64\n",
            " 20  V20     284807 non-null  float64\n",
            " 21  V21     284807 non-null  float64\n",
            " 22  V22     284807 non-null  float64\n",
            " 23  V23     284807 non-null  float64\n",
            " 24  V24     284807 non-null  float64\n",
            " 25  V25     284807 non-null  float64\n",
            " 26  V26     284807 non-null  float64\n",
            " 27  V27     284807 non-null  float64\n",
            " 28  V28     284807 non-null  float64\n",
            " 29  Amount  284807 non-null  float64\n",
            " 30  Class   284807 non-null  int64  \n",
            "dtypes: float64(30), int64(1)\n",
            "memory usage: 67.4 MB\n"
          ]
        }
      ]
    },
    {
      "cell_type": "code",
      "source": [
        "impostor = data[data['Class']==1]\n",
        "legal = data[data['Class']==0]\n",
        "legal_sampled = data[data['Class']==0].sample(n = impostor.shape[0], random_state=21)\n",
        "print(f' Impostor Shape{impostor.shape}\\n Legal shape{legal_sampled.shape}')\n",
        "impostor_sampled = impostor\n",
        "final_data = pd.concat([impostor_sampled, legal_sampled], ignore_index=True)\n",
        "final_data.shape"
      ],
      "metadata": {
        "colab": {
          "base_uri": "https://localhost:8080/"
        },
        "id": "oJaRKN8cBtsJ",
        "outputId": "823c61de-0d15-4164-a340-e772ea795f24"
      },
      "execution_count": 5,
      "outputs": [
        {
          "output_type": "stream",
          "name": "stdout",
          "text": [
            " Impostor Shape(473, 31)\n",
            " Legal shape(473, 31)\n"
          ]
        },
        {
          "output_type": "execute_result",
          "data": {
            "text/plain": [
              "(946, 31)"
            ]
          },
          "metadata": {},
          "execution_count": 5
        }
      ]
    },
    {
      "cell_type": "code",
      "source": [
        "x_dropped=data.drop(data.columns[[0,1,2,3,4,5,6,7,8,9,10,11,13,15,16,20,21,22,23,24,25,26,27,28,29,30]], axis=1)\n",
        "print(x_dropped)\n",
        "scaler=StandardScaler()\n",
        "x_dropped = scaler.fit_transform(x_dropped)\n",
        "y=data['Class']\n",
        "x_dropped, x_dropped_test, y_dropped, y_dropped_test = train_test_split(x_dropped,y, test_size=0.20, random_state=21)\n",
        "print(f'x_train{x_dropped.shape}\\n, x_test{x_dropped_test.shape}\\n, y_train{y_dropped.shape}\\n, y_test{y_dropped_test.shape}')"
      ],
      "metadata": {
        "colab": {
          "base_uri": "https://localhost:8080/"
        },
        "id": "8U-j0_ZOBtoZ",
        "outputId": "0668d3a2-e0af-4a85-e549-ba0f223a17ed"
      },
      "execution_count": 8,
      "outputs": [
        {
          "output_type": "stream",
          "name": "stdout",
          "text": [
            "             V12       V14       V17       V18       V19\n",
            "0      -0.617801 -0.311169  0.207971  0.025791  0.403993\n",
            "1       1.065235 -0.143772 -0.114805 -0.183361 -0.145783\n",
            "2       0.066084 -0.165946  1.109969 -0.121359 -2.261857\n",
            "3       0.178228 -0.287924 -0.684093  1.965775 -1.232622\n",
            "4       0.538196 -1.119670 -0.237033 -0.038195  0.803487\n",
            "...          ...       ...       ...       ...       ...\n",
            "284802  2.711941  4.626942  1.991691  0.510632 -0.682920\n",
            "284803  0.915802 -0.675143 -0.025693 -1.221179 -1.545556\n",
            "284804  0.063119 -0.510602  0.313502  0.395652 -0.577252\n",
            "284805 -0.962886  0.449624  0.509928  1.113981  2.897849\n",
            "284806 -0.031513 -0.084316 -0.660377  0.167430 -0.256117\n",
            "\n",
            "[283726 rows x 5 columns]\n",
            "x_train(226980, 5)\n",
            ", x_test(56746, 5)\n",
            ", y_train(226980,)\n",
            ", y_test(56746,)\n"
          ]
        }
      ]
    },
    {
      "cell_type": "code",
      "source": [
        "# Logistic Regression model\n",
        "def logReg(train_x, train_y, x_test, y_test):\n",
        "    logistic_model = LogisticRegression()\n",
        "    logistic_model.fit(train_x, train_y)\n",
        "    y_pred_train = logistic_model.predict(train_x)\n",
        "    y_pred_test = logistic_model.predict(x_test)\n",
        "    res_train = classification_report(train_y, y_pred_train, target_names=[\"Imposter\",\"Legal\"])\n",
        "    res_test = classification_report(y_test, y_pred_test, target_names=[\"Imposter\",\"Legal\"])\n",
        "    print(res_train)\n",
        "    print(\"*\"*100)\n",
        "    print(res_test)"
      ],
      "metadata": {
        "id": "4bCAqCf8Bthh"
      },
      "execution_count": 12,
      "outputs": []
    },
    {
      "cell_type": "code",
      "source": [
        "#KNeighbors classification model\n",
        "def KNeighbors(x_train, y_train, x_test, y_test):\n",
        "  Kneib = KNeighborsClassifier(n_neighbors=3)\n",
        "  Kneib.fit(x_train, y_train)\n",
        "  y_pred_train = Kneib.predict(x_train)\n",
        "  y_pred_test = Kneib.predict(x_test)\n",
        "  res_train = classification_report(y_train, y_pred_train, target_names=[\"Imposter\",\"Legal\"])\n",
        "  res_test = classification_report(y_test, y_pred_test, target_names=[\"Imposter\",\"Legal\"])\n",
        "  print(res_train)\n",
        "  print(\"*\"*100)\n",
        "  print(res_test)"
      ],
      "metadata": {
        "id": "Fxc9HHTyBtTz"
      },
      "execution_count": 10,
      "outputs": []
    },
    {
      "cell_type": "code",
      "source": [
        "LG_dropped = logReg(x_dropped, y_dropped, x_dropped_test, y_dropped_test)"
      ],
      "metadata": {
        "colab": {
          "base_uri": "https://localhost:8080/"
        },
        "id": "6RLTEQSJCY_n",
        "outputId": "7b56efd2-b70e-43b9-c026-264eb0b05c31"
      },
      "execution_count": 13,
      "outputs": [
        {
          "output_type": "stream",
          "name": "stdout",
          "text": [
            "              precision    recall  f1-score   support\n",
            "\n",
            "    Imposter       1.00      1.00      1.00    226599\n",
            "       Legal       0.86      0.57      0.68       381\n",
            "\n",
            "    accuracy                           1.00    226980\n",
            "   macro avg       0.93      0.78      0.84    226980\n",
            "weighted avg       1.00      1.00      1.00    226980\n",
            "\n",
            "****************************************************************************************************\n",
            "              precision    recall  f1-score   support\n",
            "\n",
            "    Imposter       1.00      1.00      1.00     56654\n",
            "       Legal       0.86      0.52      0.65        92\n",
            "\n",
            "    accuracy                           1.00     56746\n",
            "   macro avg       0.93      0.76      0.82     56746\n",
            "weighted avg       1.00      1.00      1.00     56746\n",
            "\n"
          ]
        }
      ]
    },
    {
      "cell_type": "code",
      "source": [
        "KN_dropped = KNeighbors(x_dropped, y_dropped, x_dropped_test, y_dropped_test)"
      ],
      "metadata": {
        "colab": {
          "base_uri": "https://localhost:8080/"
        },
        "id": "M8HY_6xzCbpl",
        "outputId": "49f92e4d-4a60-4ae9-a8fa-3ea8c9bc273c"
      },
      "execution_count": 14,
      "outputs": [
        {
          "output_type": "stream",
          "name": "stdout",
          "text": [
            "              precision    recall  f1-score   support\n",
            "\n",
            "    Imposter       1.00      1.00      1.00    226599\n",
            "       Legal       0.94      0.81      0.87       381\n",
            "\n",
            "    accuracy                           1.00    226980\n",
            "   macro avg       0.97      0.91      0.94    226980\n",
            "weighted avg       1.00      1.00      1.00    226980\n",
            "\n",
            "****************************************************************************************************\n",
            "              precision    recall  f1-score   support\n",
            "\n",
            "    Imposter       1.00      1.00      1.00     56654\n",
            "       Legal       0.91      0.66      0.77        92\n",
            "\n",
            "    accuracy                           1.00     56746\n",
            "   macro avg       0.95      0.83      0.88     56746\n",
            "weighted avg       1.00      1.00      1.00     56746\n",
            "\n"
          ]
        }
      ]
    },
    {
      "cell_type": "markdown",
      "source": [
        "Итак, результаты для полного датасета: метод линейной регрессии 93%, метод ближайших соседей 97%, для обрезанного датасета: метод линейной регрессии 93%, метод ближайших соседей 95%. Сохранение только наиболее коррелируемых параметров не улучшило результат."
      ],
      "metadata": {
        "id": "zbfVBPbhIPtl"
      }
    }
  ]
}